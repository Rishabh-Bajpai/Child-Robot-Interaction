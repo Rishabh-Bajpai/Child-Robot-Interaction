{
  "nbformat": 4,
  "nbformat_minor": 0,
  "metadata": {
    "colab": {
      "name": "MoveNet.ipynb",
      "provenance": [],
      "collapsed_sections": [],
      "mount_file_id": "1NRUS17X6npcliajwjzpQThCbsDv__9zK",
      "authorship_tag": "ABX9TyO6Vy3nPKvG0QqbtymDIf8w",
      "include_colab_link": true
    },
    "kernelspec": {
      "name": "python3",
      "display_name": "Python 3"
    },
    "accelerator": "GPU"
  },
  "cells": [
    {
      "cell_type": "markdown",
      "metadata": {
        "id": "view-in-github",
        "colab_type": "text"
      },
      "source": [
        "<a href=\"https://colab.research.google.com/github/Rishabh-Bajpai/Child-Robot-Interaction/blob/master/MoveNet.ipynb\" target=\"_parent\"><img src=\"https://colab.research.google.com/assets/colab-badge.svg\" alt=\"Open In Colab\"/></a>"
      ]
    },
    {
      "cell_type": "code",
      "metadata": {
        "id": "zyEgtFmK-vLI",
        "colab_type": "code",
        "colab": {}
      },
      "source": [
        "import scipy.io\n",
        "import numpy as np\n",
        "from keras.layers import Input, Conv1D, MaxPooling1D, UpSampling1D, Flatten, Reshape, Dense,Cropping1D, advanced_activations\n",
        "from keras.callbacks import ModelCheckpoint\n",
        "from keras.optimizers import Adam, SGD\n",
        "from keras.models import Model\n",
        "from keras import losses\n",
        "import cv2\n",
        "import tqdm\n",
        "from sklearn.model_selection import train_test_split\n",
        "#from sklearn import preprocessing\n",
        "#from sklearn.preprocessing import StandardScaler\n",
        "import matplotlib.pyplot as plt"
      ],
      "execution_count": 1,
      "outputs": []
    },
    {
      "cell_type": "code",
      "metadata": {
        "id": "hQS7VCG0_Jjj",
        "colab_type": "code",
        "colab": {
          "base_uri": "https://localhost:8080/",
          "height": 185
        },
        "outputId": "0ef7dc47-f388-4832-e4a8-0cb6a18aa38b"
      },
      "source": [
        "!mkdir data\n",
        "!cp \"/content/drive/My Drive/Phd/data/GAB01.mat\" /content/data -v\n",
        "!cp \"/content/drive/My Drive/Phd/data/GAB02.mat\" /content/data -v\n",
        "!cp \"/content/drive/My Drive/Phd/data/GAB03.mat\" /content/data -v\n",
        "!cp \"/content/drive/My Drive/Phd/data/GAB04.mat\" /content/data -v\n",
        "!cp \"/content/drive/My Drive/Phd/data/GAB05.mat\" /content/data -v\n",
        "!cp \"/content/drive/My Drive/Phd/data/GAB06.mat\" /content/data -v\n",
        "!cp \"/content/drive/My Drive/Phd/data/GAB07.mat\" /content/data -v\n",
        "!cp \"/content/drive/My Drive/Phd/data/GAB08.mat\" /content/data -v\n",
        "!cp \"/content/drive/My Drive/Phd/data/GAB09.mat\" /content/data -v\n",
        "!cp \"/content/drive/My Drive/Phd/data/GAB10.mat\" /content/data -v"
      ],
      "execution_count": 2,
      "outputs": [
        {
          "output_type": "stream",
          "text": [
            "'/content/drive/My Drive/Phd/data/GAB01.mat' -> '/content/data/GAB01.mat'\n",
            "'/content/drive/My Drive/Phd/data/GAB02.mat' -> '/content/data/GAB02.mat'\n",
            "'/content/drive/My Drive/Phd/data/GAB03.mat' -> '/content/data/GAB03.mat'\n",
            "'/content/drive/My Drive/Phd/data/GAB04.mat' -> '/content/data/GAB04.mat'\n",
            "'/content/drive/My Drive/Phd/data/GAB05.mat' -> '/content/data/GAB05.mat'\n",
            "'/content/drive/My Drive/Phd/data/GAB06.mat' -> '/content/data/GAB06.mat'\n",
            "'/content/drive/My Drive/Phd/data/GAB07.mat' -> '/content/data/GAB07.mat'\n",
            "'/content/drive/My Drive/Phd/data/GAB08.mat' -> '/content/data/GAB08.mat'\n",
            "'/content/drive/My Drive/Phd/data/GAB09.mat' -> '/content/data/GAB09.mat'\n",
            "'/content/drive/My Drive/Phd/data/GAB10.mat' -> '/content/data/GAB10.mat'\n"
          ],
          "name": "stdout"
        }
      ]
    },
    {
      "cell_type": "code",
      "metadata": {
        "id": "1p6ZsMA569U8",
        "colab_type": "code",
        "colab": {}
      },
      "source": [
        ""
      ],
      "execution_count": null,
      "outputs": []
    },
    {
      "cell_type": "code",
      "metadata": {
        "id": "D0ABUwmfE8a_",
        "colab_type": "code",
        "colab": {}
      },
      "source": [
        "data = scipy.io.loadmat('/content/data/GAB01.mat')"
      ],
      "execution_count": null,
      "outputs": []
    },
    {
      "cell_type": "code",
      "metadata": {
        "id": "jYf4qS2KH9R5",
        "colab_type": "code",
        "colab": {}
      },
      "source": [
        "data.get(\"s0x8d10\")"
      ],
      "execution_count": null,
      "outputs": []
    },
    {
      "cell_type": "code",
      "metadata": {
        "id": "BgdFwqCk-SGH",
        "colab_type": "code",
        "colab": {
          "base_uri": "https://localhost:8080/",
          "height": 34
        },
        "outputId": "4739278a-ea89-4dfc-b3fa-d29e8df9f2c5"
      },
      "source": [
        "np.shape(data[\"s0x8d10\"]['cycles'][0][0][0]['left'][0]['time'][0][0])"
      ],
      "execution_count": null,
      "outputs": [
        {
          "output_type": "execute_result",
          "data": {
            "text/plain": [
              "(150, 47)"
            ]
          },
          "metadata": {
            "tags": []
          },
          "execution_count": 67
        }
      ]
    },
    {
      "cell_type": "code",
      "metadata": {
        "id": "r8OxIIAlFQNS",
        "colab_type": "code",
        "colab": {
          "base_uri": "https://localhost:8080/",
          "height": 34
        },
        "outputId": "1cc2f86c-5235-4bfd-f8d7-678a57c21250"
      },
      "source": [
        "data[\"s0x8d10\"]['cycles'][0][0][0]['left'][0]['time'][0][0][149][45]"
      ],
      "execution_count": null,
      "outputs": [
        {
          "output_type": "execute_result",
          "data": {
            "text/plain": [
              "1.259999999999998"
            ]
          },
          "metadata": {
            "tags": []
          },
          "execution_count": 73
        }
      ]
    },
    {
      "cell_type": "code",
      "metadata": {
        "id": "pQY-7QVG_fbe",
        "colab_type": "code",
        "colab": {
          "base_uri": "https://localhost:8080/",
          "height": 1000
        },
        "outputId": "6e4a0da1-6d64-4eb6-da55-6780184ec1a3"
      },
      "source": [
        "subject_train=['01','02','03','04','05','06','07','08','09']\n",
        "subject_test=['10']\n",
        "speed_train=['0x8','1','1x2']\n",
        "speed_test=['0x8','1','1x2']\n",
        "AOI_train=['d10','d7x5','d5','d2x5','i0','i2x5','i5','i7x5','i10']\n",
        "AOI_test=['d10','d7x5','d5','d2x5','i0','i2x5','i5','i7x5','i10']\n",
        "joint=['knee']\n",
        "#full sample size is 13556\n",
        "def datasizecounter (subject,speed,AOI,joint,side):\n",
        "  #define a data matrix\n",
        "  count=0\n",
        "  for subID in subject:\n",
        "    filename='GAB'\n",
        "    filename=filename+subID+'.mat'\n",
        "    for sp in speed:\n",
        "      for angle in AOI:        \n",
        "        tempData = scipy.io.loadmat('/content/data/'+filename)        \n",
        "        #print(filename,'s'+sp+angle,np.shape(tempData['s'+sp+angle]['kinematics'][0][0][0]['jointangles'][0][side][0][0][joint[0]][0][0]['x'][0][0])[1])\n",
        "        count+=np.shape(tempData['s'+sp+angle]['kinematics'][0][0][0]['jointangles'][0][side][0][0][joint[0]][0][0]['x'][0][0])[1]\n",
        "        #print(np.shape(tempData['s'+sp+angle]['kinematics'][0][0][0]['jointangles'][0][\"left\"][0][0][joint][0][0]['x'][0][0]))\n",
        "        #load data for subId,...,joint  line1\n",
        "        #add the data to the data matrix  line1\n",
        "  return(count)#data matrix)\n",
        "\n",
        "def dataMatrixPicker (subject,speed,AOI,joint):\n",
        "  #define a data matrix\n",
        "  sizeL=datasizecounter (subject,speed,AOI,joint,'left')\n",
        "  sizeR=datasizecounter (subject,speed,AOI,joint,'right')\n",
        "  print(sizeL,sizeR)\n",
        "  data=np.zeros((sizeL+sizeR,151))\n",
        "  count=0\n",
        "  currentInx=0\n",
        "  for subID in subject:\n",
        "    filename='GAB'\n",
        "    filename=filename+subID+'.mat'\n",
        "    for sp in speed:\n",
        "      for angle in AOI:        \n",
        "        tempData = scipy.io.loadmat('/content/data/'+filename)        \n",
        "        print(filename,'s'+sp+angle,np.shape(tempData['s'+sp+angle]['kinematics'][0][0][0]['jointangles'][0][\"left\"][0][0][joint[0]][0][0]['x'][0][0])[1])\n",
        "        count+=np.shape(tempData['s'+sp+angle]['kinematics'][0][0][0]['jointangles'][0][\"left\"][0][0][joint[0]][0][0]['x'][0][0])[1]\n",
        "        data[currentInx:count,0:150]=np.transpose(tempData['s'+sp+angle]['kinematics'][0][0][0]['jointangles'][0][\"left\"][0][0][joint[0]][0][0]['x'][0][0])\n",
        "        data[currentInx:count,150]=np.transpose(tempData['s'+sp+angle]['cycles'][0][0][0]['left'][0]['time'][0][0][149][0:count-currentInx])\n",
        "        currentInx=count\n",
        "        print(filename,'s'+sp+angle,np.shape(tempData['s'+sp+angle]['kinematics'][0][0][0]['jointangles'][0][\"right\"][0][0][joint[0]][0][0]['x'][0][0])[1])\n",
        "        count+=np.shape(tempData['s'+sp+angle]['kinematics'][0][0][0]['jointangles'][0][\"right\"][0][0][joint[0]][0][0]['x'][0][0])[1]\n",
        "        data[currentInx:count,0:150]=np.transpose(tempData['s'+sp+angle]['kinematics'][0][0][0]['jointangles'][0][\"right\"][0][0][joint[0]][0][0]['x'][0][0])\n",
        "        data[currentInx:count,150]=np.transpose(tempData['s'+sp+angle]['cycles'][0][0][0]['right'][0]['time'][0][0][149][0:count-currentInx])        \n",
        "        currentInx=count\n",
        "  return(data)#data matrix)\n",
        "\n",
        "training_data=dataMatrixPicker(subject_train,speed_train,AOI_train,joint)\n",
        "testing_data=dataMatrixPicker(subject_test,speed_test,AOI_test,joint)"
      ],
      "execution_count": 25,
      "outputs": [
        {
          "output_type": "stream",
          "text": [
            "12038 12035\n",
            "GAB01.mat s0x8d10 47\n",
            "GAB01.mat s0x8d10 48\n",
            "GAB01.mat s0x8d7x5 49\n",
            "GAB01.mat s0x8d7x5 48\n",
            "GAB01.mat s0x8d5 44\n",
            "GAB01.mat s0x8d5 45\n",
            "GAB01.mat s0x8d2x5 43\n",
            "GAB01.mat s0x8d2x5 43\n",
            "GAB01.mat s0x8i0 42\n",
            "GAB01.mat s0x8i0 41\n",
            "GAB01.mat s0x8i2x5 38\n",
            "GAB01.mat s0x8i2x5 38\n",
            "GAB01.mat s0x8i5 37\n",
            "GAB01.mat s0x8i5 37\n",
            "GAB01.mat s0x8i7x5 40\n",
            "GAB01.mat s0x8i7x5 39\n",
            "GAB01.mat s0x8i10 39\n",
            "GAB01.mat s0x8i10 38\n",
            "GAB01.mat s1d10 54\n",
            "GAB01.mat s1d10 55\n",
            "GAB01.mat s1d7x5 53\n",
            "GAB01.mat s1d7x5 52\n",
            "GAB01.mat s1d5 49\n",
            "GAB01.mat s1d5 48\n",
            "GAB01.mat s1d2x5 47\n",
            "GAB01.mat s1d2x5 46\n",
            "GAB01.mat s1i0 46\n",
            "GAB01.mat s1i0 45\n",
            "GAB01.mat s1i2x5 45\n",
            "GAB01.mat s1i2x5 44\n",
            "GAB01.mat s1i5 45\n",
            "GAB01.mat s1i5 45\n",
            "GAB01.mat s1i7x5 43\n",
            "GAB01.mat s1i7x5 44\n",
            "GAB01.mat s1i10 45\n",
            "GAB01.mat s1i10 45\n",
            "GAB01.mat s1x2d10 55\n",
            "GAB01.mat s1x2d10 54\n",
            "GAB01.mat s1x2d7x5 54\n",
            "GAB01.mat s1x2d7x5 54\n",
            "GAB01.mat s1x2d5 52\n",
            "GAB01.mat s1x2d5 51\n",
            "GAB01.mat s1x2d2x5 51\n",
            "GAB01.mat s1x2d2x5 50\n",
            "GAB01.mat s1x2i0 50\n",
            "GAB01.mat s1x2i0 49\n",
            "GAB01.mat s1x2i2x5 47\n",
            "GAB01.mat s1x2i2x5 47\n",
            "GAB01.mat s1x2i5 47\n",
            "GAB01.mat s1x2i5 48\n",
            "GAB01.mat s1x2i7x5 48\n",
            "GAB01.mat s1x2i7x5 48\n",
            "GAB01.mat s1x2i10 49\n",
            "GAB01.mat s1x2i10 50\n",
            "GAB02.mat s0x8d10 42\n",
            "GAB02.mat s0x8d10 43\n",
            "GAB02.mat s0x8d7x5 47\n",
            "GAB02.mat s0x8d7x5 46\n",
            "GAB02.mat s0x8d5 44\n",
            "GAB02.mat s0x8d5 43\n",
            "GAB02.mat s0x8d2x5 41\n",
            "GAB02.mat s0x8d2x5 40\n",
            "GAB02.mat s0x8i0 42\n",
            "GAB02.mat s0x8i0 41\n",
            "GAB02.mat s0x8i2x5 40\n",
            "GAB02.mat s0x8i2x5 41\n",
            "GAB02.mat s0x8i5 39\n",
            "GAB02.mat s0x8i5 40\n",
            "GAB02.mat s0x8i7x5 39\n",
            "GAB02.mat s0x8i7x5 40\n",
            "GAB02.mat s0x8i10 38\n",
            "GAB02.mat s0x8i10 38\n",
            "GAB02.mat s1d10 49\n",
            "GAB02.mat s1d10 49\n",
            "GAB02.mat s1d7x5 49\n",
            "GAB02.mat s1d7x5 49\n",
            "GAB02.mat s1d5 47\n",
            "GAB02.mat s1d5 47\n",
            "GAB02.mat s1d2x5 46\n",
            "GAB02.mat s1d2x5 47\n",
            "GAB02.mat s1i0 46\n",
            "GAB02.mat s1i0 46\n",
            "GAB02.mat s1i2x5 43\n",
            "GAB02.mat s1i2x5 42\n",
            "GAB02.mat s1i5 46\n",
            "GAB02.mat s1i5 45\n",
            "GAB02.mat s1i7x5 46\n",
            "GAB02.mat s1i7x5 45\n",
            "GAB02.mat s1i10 47\n",
            "GAB02.mat s1i10 47\n",
            "GAB02.mat s1x2d10 54\n",
            "GAB02.mat s1x2d10 54\n",
            "GAB02.mat s1x2d7x5 54\n",
            "GAB02.mat s1x2d7x5 53\n",
            "GAB02.mat s1x2d5 51\n",
            "GAB02.mat s1x2d5 51\n",
            "GAB02.mat s1x2d2x5 50\n",
            "GAB02.mat s1x2d2x5 51\n",
            "GAB02.mat s1x2i0 50\n",
            "GAB02.mat s1x2i0 50\n",
            "GAB02.mat s1x2i2x5 49\n",
            "GAB02.mat s1x2i2x5 50\n",
            "GAB02.mat s1x2i5 49\n",
            "GAB02.mat s1x2i5 49\n",
            "GAB02.mat s1x2i7x5 50\n",
            "GAB02.mat s1x2i7x5 50\n",
            "GAB02.mat s1x2i10 50\n",
            "GAB02.mat s1x2i10 50\n",
            "GAB03.mat s0x8d10 47\n",
            "GAB03.mat s0x8d10 48\n",
            "GAB03.mat s0x8d7x5 49\n",
            "GAB03.mat s0x8d7x5 49\n",
            "GAB03.mat s0x8d5 46\n",
            "GAB03.mat s0x8d5 47\n",
            "GAB03.mat s0x8d2x5 45\n",
            "GAB03.mat s0x8d2x5 46\n",
            "GAB03.mat s0x8i0 43\n",
            "GAB03.mat s0x8i0 42\n",
            "GAB03.mat s0x8i2x5 42\n",
            "GAB03.mat s0x8i2x5 42\n",
            "GAB03.mat s0x8i5 39\n",
            "GAB03.mat s0x8i5 39\n",
            "GAB03.mat s0x8i7x5 41\n",
            "GAB03.mat s0x8i7x5 41\n",
            "GAB03.mat s0x8i10 38\n",
            "GAB03.mat s0x8i10 39\n",
            "GAB03.mat s1d10 49\n",
            "GAB03.mat s1d10 49\n",
            "GAB03.mat s1d7x5 53\n",
            "GAB03.mat s1d7x5 53\n",
            "GAB03.mat s1d5 50\n",
            "GAB03.mat s1d5 51\n",
            "GAB03.mat s1d2x5 50\n",
            "GAB03.mat s1d2x5 51\n",
            "GAB03.mat s1i0 48\n",
            "GAB03.mat s1i0 48\n",
            "GAB03.mat s1i2x5 47\n",
            "GAB03.mat s1i2x5 46\n",
            "GAB03.mat s1i5 45\n",
            "GAB03.mat s1i5 46\n",
            "GAB03.mat s1i7x5 47\n",
            "GAB03.mat s1i7x5 46\n",
            "GAB03.mat s1i10 43\n",
            "GAB03.mat s1i10 44\n",
            "GAB03.mat s1x2d10 53\n",
            "GAB03.mat s1x2d10 52\n",
            "GAB03.mat s1x2d7x5 55\n",
            "GAB03.mat s1x2d7x5 56\n",
            "GAB03.mat s1x2d5 53\n",
            "GAB03.mat s1x2d5 54\n",
            "GAB03.mat s1x2d2x5 53\n",
            "GAB03.mat s1x2d2x5 53\n",
            "GAB03.mat s1x2i0 52\n",
            "GAB03.mat s1x2i0 52\n",
            "GAB03.mat s1x2i2x5 50\n",
            "GAB03.mat s1x2i2x5 50\n",
            "GAB03.mat s1x2i5 50\n",
            "GAB03.mat s1x2i5 49\n",
            "GAB03.mat s1x2i7x5 50\n",
            "GAB03.mat s1x2i7x5 49\n",
            "GAB03.mat s1x2i10 48\n",
            "GAB03.mat s1x2i10 49\n",
            "GAB04.mat s0x8d10 60\n",
            "GAB04.mat s0x8d10 60\n",
            "GAB04.mat s0x8d7x5 57\n",
            "GAB04.mat s0x8d7x5 58\n",
            "GAB04.mat s0x8d5 57\n",
            "GAB04.mat s0x8d5 56\n",
            "GAB04.mat s0x8d2x5 52\n",
            "GAB04.mat s0x8d2x5 52\n",
            "GAB04.mat s0x8i0 47\n",
            "GAB04.mat s0x8i0 48\n",
            "GAB04.mat s0x8i2x5 46\n",
            "GAB04.mat s0x8i2x5 47\n",
            "GAB04.mat s0x8i5 48\n",
            "GAB04.mat s0x8i5 47\n",
            "GAB04.mat s0x8i7x5 45\n",
            "GAB04.mat s0x8i7x5 46\n",
            "GAB04.mat s0x8i10 45\n",
            "GAB04.mat s0x8i10 45\n",
            "GAB04.mat s1d10 65\n",
            "GAB04.mat s1d10 65\n",
            "GAB04.mat s1d7x5 61\n",
            "GAB04.mat s1d7x5 61\n",
            "GAB04.mat s1d5 60\n",
            "GAB04.mat s1d5 61\n",
            "GAB04.mat s1d2x5 57\n",
            "GAB04.mat s1d2x5 57\n",
            "GAB04.mat s1i0 54\n",
            "GAB04.mat s1i0 53\n",
            "GAB04.mat s1i2x5 52\n",
            "GAB04.mat s1i2x5 51\n",
            "GAB04.mat s1i5 52\n",
            "GAB04.mat s1i5 52\n",
            "GAB04.mat s1i7x5 52\n",
            "GAB04.mat s1i7x5 52\n",
            "GAB04.mat s1i10 53\n",
            "GAB04.mat s1i10 52\n",
            "GAB04.mat s1x2d10 67\n",
            "GAB04.mat s1x2d10 68\n",
            "GAB04.mat s1x2d7x5 65\n",
            "GAB04.mat s1x2d7x5 66\n",
            "GAB04.mat s1x2d5 64\n",
            "GAB04.mat s1x2d5 63\n",
            "GAB04.mat s1x2d2x5 61\n",
            "GAB04.mat s1x2d2x5 62\n",
            "GAB04.mat s1x2i0 58\n",
            "GAB04.mat s1x2i0 59\n",
            "GAB04.mat s1x2i2x5 56\n",
            "GAB04.mat s1x2i2x5 56\n",
            "GAB04.mat s1x2i5 55\n",
            "GAB04.mat s1x2i5 56\n",
            "GAB04.mat s1x2i7x5 57\n",
            "GAB04.mat s1x2i7x5 57\n",
            "GAB04.mat s1x2i10 52\n",
            "GAB04.mat s1x2i10 51\n",
            "GAB05.mat s0x8d10 49\n",
            "GAB05.mat s0x8d10 49\n",
            "GAB05.mat s0x8d7x5 47\n",
            "GAB05.mat s0x8d7x5 47\n",
            "GAB05.mat s0x8d5 46\n",
            "GAB05.mat s0x8d5 45\n",
            "GAB05.mat s0x8d2x5 45\n",
            "GAB05.mat s0x8d2x5 44\n",
            "GAB05.mat s0x8i0 43\n",
            "GAB05.mat s0x8i0 44\n",
            "GAB05.mat s0x8i2x5 41\n",
            "GAB05.mat s0x8i2x5 41\n",
            "GAB05.mat s0x8i5 41\n",
            "GAB05.mat s0x8i5 42\n",
            "GAB05.mat s0x8i7x5 42\n",
            "GAB05.mat s0x8i7x5 42\n",
            "GAB05.mat s0x8i10 44\n",
            "GAB05.mat s0x8i10 44\n",
            "GAB05.mat s1d10 52\n",
            "GAB05.mat s1d10 52\n",
            "GAB05.mat s1d7x5 53\n",
            "GAB05.mat s1d7x5 53\n",
            "GAB05.mat s1d5 51\n",
            "GAB05.mat s1d5 51\n",
            "GAB05.mat s1d2x5 50\n",
            "GAB05.mat s1d2x5 51\n",
            "GAB05.mat s1i0 50\n",
            "GAB05.mat s1i0 51\n",
            "GAB05.mat s1i2x5 48\n",
            "GAB05.mat s1i2x5 49\n",
            "GAB05.mat s1i5 49\n",
            "GAB05.mat s1i5 48\n",
            "GAB05.mat s1i7x5 50\n",
            "GAB05.mat s1i7x5 49\n",
            "GAB05.mat s1i10 51\n",
            "GAB05.mat s1i10 50\n",
            "GAB05.mat s1x2d10 57\n",
            "GAB05.mat s1x2d10 56\n",
            "GAB05.mat s1x2d7x5 34\n",
            "GAB05.mat s1x2d7x5 33\n",
            "GAB05.mat s1x2d5 55\n",
            "GAB05.mat s1x2d5 56\n",
            "GAB05.mat s1x2d2x5 54\n",
            "GAB05.mat s1x2d2x5 54\n",
            "GAB05.mat s1x2i0 54\n",
            "GAB05.mat s1x2i0 55\n",
            "GAB05.mat s1x2i2x5 54\n",
            "GAB05.mat s1x2i2x5 55\n",
            "GAB05.mat s1x2i5 55\n",
            "GAB05.mat s1x2i5 55\n",
            "GAB05.mat s1x2i7x5 57\n",
            "GAB05.mat s1x2i7x5 56\n",
            "GAB05.mat s1x2i10 54\n",
            "GAB05.mat s1x2i10 55\n",
            "GAB06.mat s0x8d10 56\n",
            "GAB06.mat s0x8d10 57\n",
            "GAB06.mat s0x8d7x5 49\n",
            "GAB06.mat s0x8d7x5 49\n",
            "GAB06.mat s0x8d5 51\n",
            "GAB06.mat s0x8d5 50\n",
            "GAB06.mat s0x8d2x5 46\n",
            "GAB06.mat s0x8d2x5 47\n",
            "GAB06.mat s0x8i0 45\n",
            "GAB06.mat s0x8i0 46\n",
            "GAB06.mat s0x8i2x5 43\n",
            "GAB06.mat s0x8i2x5 44\n",
            "GAB06.mat s0x8i5 42\n",
            "GAB06.mat s0x8i5 43\n",
            "GAB06.mat s0x8i7x5 44\n",
            "GAB06.mat s0x8i7x5 43\n",
            "GAB06.mat s0x8i10 45\n",
            "GAB06.mat s0x8i10 45\n",
            "GAB06.mat s1d10 61\n",
            "GAB06.mat s1d10 61\n",
            "GAB06.mat s1d7x5 54\n",
            "GAB06.mat s1d7x5 55\n",
            "GAB06.mat s1d5 53\n",
            "GAB06.mat s1d5 53\n",
            "GAB06.mat s1d2x5 52\n",
            "GAB06.mat s1d2x5 52\n",
            "GAB06.mat s1i0 51\n",
            "GAB06.mat s1i0 51\n",
            "GAB06.mat s1i2x5 50\n",
            "GAB06.mat s1i2x5 49\n",
            "GAB06.mat s1i5 49\n",
            "GAB06.mat s1i5 50\n",
            "GAB06.mat s1i7x5 51\n",
            "GAB06.mat s1i7x5 51\n",
            "GAB06.mat s1i10 51\n",
            "GAB06.mat s1i10 51\n",
            "GAB06.mat s1x2d10 65\n",
            "GAB06.mat s1x2d10 65\n",
            "GAB06.mat s1x2d7x5 58\n",
            "GAB06.mat s1x2d7x5 57\n",
            "GAB06.mat s1x2d5 57\n",
            "GAB06.mat s1x2d5 57\n",
            "GAB06.mat s1x2d2x5 55\n",
            "GAB06.mat s1x2d2x5 55\n",
            "GAB06.mat s1x2i0 55\n",
            "GAB06.mat s1x2i0 54\n",
            "GAB06.mat s1x2i2x5 54\n",
            "GAB06.mat s1x2i2x5 54\n",
            "GAB06.mat s1x2i5 53\n",
            "GAB06.mat s1x2i5 53\n",
            "GAB06.mat s1x2i7x5 55\n",
            "GAB06.mat s1x2i7x5 55\n",
            "GAB06.mat s1x2i10 55\n",
            "GAB06.mat s1x2i10 56\n",
            "GAB07.mat s0x8d10 47\n",
            "GAB07.mat s0x8d10 47\n",
            "GAB07.mat s0x8d7x5 47\n",
            "GAB07.mat s0x8d7x5 48\n",
            "GAB07.mat s0x8d5 47\n",
            "GAB07.mat s0x8d5 47\n",
            "GAB07.mat s0x8d2x5 45\n",
            "GAB07.mat s0x8d2x5 45\n",
            "GAB07.mat s0x8i0 44\n",
            "GAB07.mat s0x8i0 45\n",
            "GAB07.mat s0x8i2x5 46\n",
            "GAB07.mat s0x8i2x5 45\n",
            "GAB07.mat s0x8i5 43\n",
            "GAB07.mat s0x8i5 42\n",
            "GAB07.mat s0x8i7x5 44\n",
            "GAB07.mat s0x8i7x5 43\n",
            "GAB07.mat s0x8i10 45\n",
            "GAB07.mat s0x8i10 45\n",
            "GAB07.mat s1d10 51\n",
            "GAB07.mat s1d10 51\n",
            "GAB07.mat s1d7x5 50\n",
            "GAB07.mat s1d7x5 51\n",
            "GAB07.mat s1d5 51\n",
            "GAB07.mat s1d5 51\n",
            "GAB07.mat s1d2x5 49\n",
            "GAB07.mat s1d2x5 49\n",
            "GAB07.mat s1i0 48\n",
            "GAB07.mat s1i0 48\n",
            "GAB07.mat s1i2x5 49\n",
            "GAB07.mat s1i2x5 49\n",
            "GAB07.mat s1i5 49\n",
            "GAB07.mat s1i5 48\n",
            "GAB07.mat s1i7x5 47\n",
            "GAB07.mat s1i7x5 46\n",
            "GAB07.mat s1i10 51\n",
            "GAB07.mat s1i10 51\n",
            "GAB07.mat s1x2d10 56\n",
            "GAB07.mat s1x2d10 55\n",
            "GAB07.mat s1x2d7x5 54\n",
            "GAB07.mat s1x2d7x5 53\n",
            "GAB07.mat s1x2d5 53\n",
            "GAB07.mat s1x2d5 54\n",
            "GAB07.mat s1x2d2x5 52\n",
            "GAB07.mat s1x2d2x5 52\n",
            "GAB07.mat s1x2i0 52\n",
            "GAB07.mat s1x2i0 52\n",
            "GAB07.mat s1x2i2x5 52\n",
            "GAB07.mat s1x2i2x5 52\n",
            "GAB07.mat s1x2i5 52\n",
            "GAB07.mat s1x2i5 52\n",
            "GAB07.mat s1x2i7x5 52\n",
            "GAB07.mat s1x2i7x5 52\n",
            "GAB07.mat s1x2i10 53\n",
            "GAB07.mat s1x2i10 53\n",
            "GAB08.mat s0x8d10 59\n",
            "GAB08.mat s0x8d10 60\n",
            "GAB08.mat s0x8d7x5 55\n",
            "GAB08.mat s0x8d7x5 54\n",
            "GAB08.mat s0x8d5 52\n",
            "GAB08.mat s0x8d5 51\n",
            "GAB08.mat s0x8d2x5 47\n",
            "GAB08.mat s0x8d2x5 47\n",
            "GAB08.mat s0x8i0 44\n",
            "GAB08.mat s0x8i0 44\n",
            "GAB08.mat s0x8i2x5 44\n",
            "GAB08.mat s0x8i2x5 44\n",
            "GAB08.mat s0x8i5 41\n",
            "GAB08.mat s0x8i5 41\n",
            "GAB08.mat s0x8i7x5 43\n",
            "GAB08.mat s0x8i7x5 43\n",
            "GAB08.mat s0x8i10 40\n",
            "GAB08.mat s0x8i10 40\n",
            "GAB08.mat s1d10 62\n",
            "GAB08.mat s1d10 61\n",
            "GAB08.mat s1d7x5 56\n",
            "GAB08.mat s1d7x5 56\n",
            "GAB08.mat s1d5 56\n",
            "GAB08.mat s1d5 56\n",
            "GAB08.mat s1d2x5 52\n",
            "GAB08.mat s1d2x5 52\n",
            "GAB08.mat s1i0 50\n",
            "GAB08.mat s1i0 50\n",
            "GAB08.mat s1i2x5 48\n",
            "GAB08.mat s1i2x5 48\n",
            "GAB08.mat s1i5 47\n",
            "GAB08.mat s1i5 47\n",
            "GAB08.mat s1i7x5 48\n",
            "GAB08.mat s1i7x5 48\n",
            "GAB08.mat s1i10 47\n",
            "GAB08.mat s1i10 46\n",
            "GAB08.mat s1x2d10 63\n",
            "GAB08.mat s1x2d10 62\n",
            "GAB08.mat s1x2d7x5 59\n",
            "GAB08.mat s1x2d7x5 60\n",
            "GAB08.mat s1x2d5 57\n",
            "GAB08.mat s1x2d5 57\n",
            "GAB08.mat s1x2d2x5 55\n",
            "GAB08.mat s1x2d2x5 56\n",
            "GAB08.mat s1x2i0 55\n",
            "GAB08.mat s1x2i0 55\n",
            "GAB08.mat s1x2i2x5 54\n",
            "GAB08.mat s1x2i2x5 54\n",
            "GAB08.mat s1x2i5 52\n",
            "GAB08.mat s1x2i5 51\n",
            "GAB08.mat s1x2i7x5 51\n",
            "GAB08.mat s1x2i7x5 51\n",
            "GAB08.mat s1x2i10 51\n",
            "GAB08.mat s1x2i10 51\n",
            "GAB09.mat s0x8d10 47\n",
            "GAB09.mat s0x8d10 47\n",
            "GAB09.mat s0x8d7x5 44\n",
            "GAB09.mat s0x8d7x5 44\n",
            "GAB09.mat s0x8d5 45\n",
            "GAB09.mat s0x8d5 44\n",
            "GAB09.mat s0x8d2x5 43\n",
            "GAB09.mat s0x8d2x5 44\n",
            "GAB09.mat s0x8i0 42\n",
            "GAB09.mat s0x8i0 42\n",
            "GAB09.mat s0x8i2x5 43\n",
            "GAB09.mat s0x8i2x5 44\n",
            "GAB09.mat s0x8i5 42\n",
            "GAB09.mat s0x8i5 41\n",
            "GAB09.mat s0x8i7x5 41\n",
            "GAB09.mat s0x8i7x5 42\n",
            "GAB09.mat s0x8i10 41\n",
            "GAB09.mat s0x8i10 42\n",
            "GAB09.mat s1d10 52\n",
            "GAB09.mat s1d10 52\n",
            "GAB09.mat s1d7x5 51\n",
            "GAB09.mat s1d7x5 51\n",
            "GAB09.mat s1d5 49\n",
            "GAB09.mat s1d5 49\n",
            "GAB09.mat s1d2x5 50\n",
            "GAB09.mat s1d2x5 50\n",
            "GAB09.mat s1i0 48\n",
            "GAB09.mat s1i0 48\n",
            "GAB09.mat s1i2x5 46\n",
            "GAB09.mat s1i2x5 47\n",
            "GAB09.mat s1i5 48\n",
            "GAB09.mat s1i5 47\n",
            "GAB09.mat s1i7x5 48\n",
            "GAB09.mat s1i7x5 47\n",
            "GAB09.mat s1i10 49\n",
            "GAB09.mat s1i10 49\n",
            "GAB09.mat s1x2d10 56\n",
            "GAB09.mat s1x2d10 56\n",
            "GAB09.mat s1x2d7x5 54\n",
            "GAB09.mat s1x2d7x5 54\n",
            "GAB09.mat s1x2d5 55\n",
            "GAB09.mat s1x2d5 54\n",
            "GAB09.mat s1x2d2x5 53\n",
            "GAB09.mat s1x2d2x5 53\n",
            "GAB09.mat s1x2i0 52\n",
            "GAB09.mat s1x2i0 51\n",
            "GAB09.mat s1x2i2x5 51\n",
            "GAB09.mat s1x2i2x5 51\n",
            "GAB09.mat s1x2i5 50\n",
            "GAB09.mat s1x2i5 50\n",
            "GAB09.mat s1x2i7x5 52\n",
            "GAB09.mat s1x2i7x5 52\n",
            "GAB09.mat s1x2i10 52\n",
            "GAB09.mat s1x2i10 52\n",
            "1518 1515\n",
            "GAB10.mat s0x8d10 56\n",
            "GAB10.mat s0x8d10 56\n",
            "GAB10.mat s0x8d7x5 53\n",
            "GAB10.mat s0x8d7x5 52\n",
            "GAB10.mat s0x8d5 51\n",
            "GAB10.mat s0x8d5 51\n",
            "GAB10.mat s0x8d2x5 51\n",
            "GAB10.mat s0x8d2x5 50\n",
            "GAB10.mat s0x8i0 48\n",
            "GAB10.mat s0x8i0 49\n",
            "GAB10.mat s0x8i2x5 48\n",
            "GAB10.mat s0x8i2x5 47\n",
            "GAB10.mat s0x8i5 49\n",
            "GAB10.mat s0x8i5 49\n",
            "GAB10.mat s0x8i7x5 49\n",
            "GAB10.mat s0x8i7x5 48\n",
            "GAB10.mat s0x8i10 48\n",
            "GAB10.mat s0x8i10 49\n",
            "GAB10.mat s1d10 62\n",
            "GAB10.mat s1d10 61\n",
            "GAB10.mat s1d7x5 59\n",
            "GAB10.mat s1d7x5 60\n",
            "GAB10.mat s1d5 57\n",
            "GAB10.mat s1d5 57\n",
            "GAB10.mat s1d2x5 56\n",
            "GAB10.mat s1d2x5 56\n",
            "GAB10.mat s1i0 56\n",
            "GAB10.mat s1i0 56\n",
            "GAB10.mat s1i2x5 55\n",
            "GAB10.mat s1i2x5 56\n",
            "GAB10.mat s1i5 55\n",
            "GAB10.mat s1i5 54\n",
            "GAB10.mat s1i7x5 55\n",
            "GAB10.mat s1i7x5 54\n",
            "GAB10.mat s1i10 57\n",
            "GAB10.mat s1i10 56\n",
            "GAB10.mat s1x2d10 63\n",
            "GAB10.mat s1x2d10 64\n",
            "GAB10.mat s1x2d7x5 62\n",
            "GAB10.mat s1x2d7x5 63\n",
            "GAB10.mat s1x2d5 63\n",
            "GAB10.mat s1x2d5 63\n",
            "GAB10.mat s1x2d2x5 62\n",
            "GAB10.mat s1x2d2x5 61\n",
            "GAB10.mat s1x2i0 60\n",
            "GAB10.mat s1x2i0 61\n",
            "GAB10.mat s1x2i2x5 60\n",
            "GAB10.mat s1x2i2x5 59\n",
            "GAB10.mat s1x2i5 60\n",
            "GAB10.mat s1x2i5 61\n",
            "GAB10.mat s1x2i7x5 62\n",
            "GAB10.mat s1x2i7x5 61\n",
            "GAB10.mat s1x2i10 61\n",
            "GAB10.mat s1x2i10 61\n"
          ],
          "name": "stdout"
        }
      ]
    },
    {
      "cell_type": "code",
      "metadata": {
        "id": "cApmHKlpLPk7",
        "colab_type": "code",
        "colab": {}
      },
      "source": [
        "import pickle\n",
        "with open('trainingData', 'wb') as f:\n",
        "    pickle.dump(training_data, f)\n",
        "with open('testingData', 'wb') as f:\n",
        "    pickle.dump(testing_data, f)"
      ],
      "execution_count": 26,
      "outputs": []
    },
    {
      "cell_type": "code",
      "metadata": {
        "id": "f-aCXRzO0bU0",
        "colab_type": "code",
        "colab": {
          "base_uri": "https://localhost:8080/",
          "height": 50
        },
        "outputId": "d6b46ba0-9e86-4255-a610-0dd209872cf6"
      },
      "source": [
        "!cp '/content/trainingData' \"/content/drive/My Drive/Phd/data/\" -v\n",
        "!cp '/content/testingData' \"/content/drive/My Drive/Phd/data/\" -v"
      ],
      "execution_count": 27,
      "outputs": [
        {
          "output_type": "stream",
          "text": [
            "'/content/trainingData' -> '/content/drive/My Drive/Phd/data/trainingData'\n",
            "'/content/testingData' -> '/content/drive/My Drive/Phd/data/testingData'\n"
          ],
          "name": "stdout"
        }
      ]
    },
    {
      "cell_type": "code",
      "metadata": {
        "id": "HQZWzzWrcBUl",
        "colab_type": "code",
        "colab": {
          "base_uri": "https://localhost:8080/",
          "height": 50
        },
        "outputId": "87b671cb-c53e-4c11-eb01-e103c8733d6e"
      },
      "source": [
        "!cp \"/content/drive/My Drive/Phd/data/trainingData\" '/content/'  -v\n",
        "!cp \"/content/drive/My Drive/Phd/data/testingData\" '/content/'  -v"
      ],
      "execution_count": null,
      "outputs": [
        {
          "output_type": "stream",
          "text": [
            "'/content/drive/My Drive/Phd/data/trainingData' -> '/content/trainingData'\n",
            "'/content/drive/My Drive/Phd/data/testingData' -> '/content/testingData'\n"
          ],
          "name": "stdout"
        }
      ]
    },
    {
      "cell_type": "code",
      "metadata": {
        "id": "HZ5BvkjPNvx2",
        "colab_type": "code",
        "colab": {}
      },
      "source": [
        "with open('trainingData', 'rb') as f:\n",
        "    training_data = pickle.load(f)\n",
        "with open('testingData', 'rb') as f:\n",
        "    testing_data = pickle.load(f)"
      ],
      "execution_count": 67,
      "outputs": []
    },
    {
      "cell_type": "code",
      "metadata": {
        "id": "du85aCrakhPB",
        "colab_type": "code",
        "colab": {}
      },
      "source": [
        "vMean = np.mean(training_data[:,0:150],axis=1)[:, np.newaxis]\n",
        "vStd = np.std(training_data[:,0:150],axis=1)[:, np.newaxis]\n",
        "training_data[:,0:150]=(training_data[:,0:150]-vMean)/vStd\n",
        "vMean = np.mean(testing_data[:,0:150],axis=1)[:, np.newaxis]\n",
        "vStd = np.std(testing_data[:,0:150],axis=1)[:, np.newaxis]\n",
        "testing_data[:,0:150]=(testing_data[:,0:150]-vMean)/vStd"
      ],
      "execution_count": 68,
      "outputs": []
    },
    {
      "cell_type": "code",
      "metadata": {
        "id": "bR8JaccUimmO",
        "colab_type": "code",
        "colab": {
          "base_uri": "https://localhost:8080/",
          "height": 235
        },
        "outputId": "c63fc92e-af4e-4b57-c688-94f8fba472e3"
      },
      "source": [
        "\n"
      ],
      "execution_count": 8,
      "outputs": [
        {
          "output_type": "execute_result",
          "data": {
            "text/plain": [
              "array([[-1.41358505, -1.339471  , -1.2599678 , ..., -1.75091924,\n",
              "        -1.72803726, -1.69802123],\n",
              "       [-1.58735417, -1.55010847, -1.50794944, ..., -1.56838735,\n",
              "        -1.53300939, -1.49237037],\n",
              "       [-1.50350019, -1.45458557, -1.40095054, ..., -1.62460158,\n",
              "        -1.59783293, -1.5637772 ],\n",
              "       ...,\n",
              "       [ 0.27931722,  0.30302124,  0.32742329, ...,  0.5032651 ,\n",
              "         0.52198297,  0.54331381],\n",
              "       [ 0.43438214,  0.45784876,  0.48195687, ...,  0.23312134,\n",
              "         0.24247342,  0.25284255],\n",
              "       [ 0.35948466,  0.37029222,  0.38124592, ...,  0.27400066,\n",
              "         0.27463106,  0.27900741]])"
            ]
          },
          "metadata": {
            "tags": []
          },
          "execution_count": 8
        }
      ]
    },
    {
      "cell_type": "code",
      "metadata": {
        "id": "zgivTX3MlWK_",
        "colab_type": "code",
        "colab": {
          "base_uri": "https://localhost:8080/",
          "height": 34
        },
        "outputId": "f385431a-8638-455f-fa1b-cbeaae13570d"
      },
      "source": [
        "training_data[24072,149]"
      ],
      "execution_count": 69,
      "outputs": [
        {
          "output_type": "execute_result",
          "data": {
            "text/plain": [
              "0.2790074130536772"
            ]
          },
          "metadata": {
            "tags": []
          },
          "execution_count": 69
        }
      ]
    },
    {
      "cell_type": "code",
      "metadata": {
        "id": "2HWrRsdTqW-U",
        "colab_type": "code",
        "colab": {
          "base_uri": "https://localhost:8080/",
          "height": 67
        },
        "outputId": "444fd87a-cb36-4810-cbdd-4c75615647e2"
      },
      "source": [
        "testing_data[3000:3033,150]"
      ],
      "execution_count": 40,
      "outputs": [
        {
          "output_type": "execute_result",
          "data": {
            "text/plain": [
              "array([0.98, 0.95, 0.97, 0.98, 0.95, 0.96, 0.96, 0.95, 1.  , 0.99, 0.95,\n",
              "       0.94, 0.97, 0.95, 0.97, 0.98, 0.96, 0.94, 0.96, 0.97, 0.96, 0.95,\n",
              "       0.94, 0.96, 0.98, 0.96, 0.96, 0.97, 0.96, 0.96, 0.96, 0.97, 0.94])"
            ]
          },
          "metadata": {
            "tags": []
          },
          "execution_count": 40
        }
      ]
    },
    {
      "cell_type": "code",
      "metadata": {
        "id": "vict82s7lCH8",
        "colab_type": "code",
        "colab": {
          "base_uri": "https://localhost:8080/",
          "height": 34
        },
        "outputId": "4d8b2d46-c639-4f1b-ef63-1ed0fae9572d"
      },
      "source": [
        "np.sum(np.isnan(training_data))"
      ],
      "execution_count": 70,
      "outputs": [
        {
          "output_type": "execute_result",
          "data": {
            "text/plain": [
              "0"
            ]
          },
          "metadata": {
            "tags": []
          },
          "execution_count": 70
        }
      ]
    },
    {
      "cell_type": "code",
      "metadata": {
        "id": "PK-TWuWikJgW",
        "colab_type": "code",
        "colab": {
          "base_uri": "https://localhost:8080/",
          "height": 34
        },
        "outputId": "3fb8d7c3-fe4a-4a0c-b00a-005d0a2272c9"
      },
      "source": [
        "np.shape(vMean)"
      ],
      "execution_count": 75,
      "outputs": [
        {
          "output_type": "execute_result",
          "data": {
            "text/plain": [
              "0.007837730325227651"
            ]
          },
          "metadata": {
            "tags": []
          },
          "execution_count": 75
        }
      ]
    },
    {
      "cell_type": "code",
      "metadata": {
        "id": "XeANDrhxMmG_",
        "colab_type": "code",
        "colab": {}
      },
      "source": [
        "training_data[:,150] = training_data[:,150]\n",
        "testing_data[:,150] = testing_data[:,150]"
      ],
      "execution_count": 65,
      "outputs": []
    },
    {
      "cell_type": "code",
      "metadata": {
        "id": "6RPBaMTaALeo",
        "colab_type": "code",
        "colab": {}
      },
      "source": [
        "training_data=np.pad(training_data, [(0,0),(21,20)], mode='constant', constant_values=0)\n",
        "testing_data=np.pad(testing_data, [(0,0),(21,20)], mode='constant', constant_values=0)\n",
        "\n",
        "#training_data=np.pad(training_data, [(0,0),(4,9)], mode='constant', constant_values=0)\n",
        "#testing_data=np.pad(testing_data, [(0,0),(4,)], mode='constant', constant_values=0)\n",
        "\n"
      ],
      "execution_count": 76,
      "outputs": []
    },
    {
      "cell_type": "code",
      "metadata": {
        "id": "NWsAtXvP1EEQ",
        "colab_type": "code",
        "colab": {
          "base_uri": "https://localhost:8080/",
          "height": 50
        },
        "outputId": "efc3edb3-4037-4312-b7b6-8d385f54459b"
      },
      "source": [
        "print(np.shape(training_data))\n",
        "print(np.shape(testing_data))"
      ],
      "execution_count": 43,
      "outputs": [
        {
          "output_type": "stream",
          "text": [
            "(24073, 192)\n",
            "(3033, 192)\n"
          ],
          "name": "stdout"
        }
      ]
    },
    {
      "cell_type": "code",
      "metadata": {
        "id": "v876t41DOAia",
        "colab_type": "code",
        "colab": {}
      },
      "source": [
        "training_data = training_data.reshape((np.shape(training_data)[0],np.shape(training_data)[1], 1))\n",
        "testing_data = testing_data.reshape(( np.shape(testing_data)[0], np.shape(training_data)[1], 1))"
      ],
      "execution_count": 77,
      "outputs": []
    },
    {
      "cell_type": "code",
      "metadata": {
        "id": "0XumCv-J_qVS",
        "colab_type": "code",
        "colab": {
          "base_uri": "https://localhost:8080/",
          "height": 672
        },
        "outputId": "b2988b35-946d-48d2-e50e-be4736bd97ff"
      },
      "source": [
        "training_data[0,:,0]"
      ],
      "execution_count": 78,
      "outputs": [
        {
          "output_type": "execute_result",
          "data": {
            "text/plain": [
              "array([ 0.        ,  0.        ,  0.        ,  0.        ,  0.        ,\n",
              "        0.        ,  0.        ,  0.        ,  0.        ,  0.        ,\n",
              "        0.        ,  0.        ,  0.        ,  0.        ,  0.        ,\n",
              "        0.        ,  0.        ,  0.        ,  0.        ,  0.        ,\n",
              "        0.        , -1.41358505, -1.339471  , -1.2599678 , -1.17532477,\n",
              "       -1.08594557, -0.99240999, -0.89534569, -0.79718739, -0.69982843,\n",
              "       -0.60483171, -0.51369609, -0.4285598 , -0.35162913, -0.28243277,\n",
              "       -0.22135895, -0.16861745, -0.12433018, -0.0904199 , -0.06396935,\n",
              "       -0.04446212, -0.03135605, -0.02408835, -0.02300685, -0.02661583,\n",
              "       -0.03398914, -0.04466482, -0.05820833, -0.07443979, -0.09293665,\n",
              "       -0.11296709, -0.13426873, -0.15660096, -0.179754  , -0.2035718 ,\n",
              "       -0.2276685 , -0.251891  , -0.27609592, -0.30014979, -0.32383006,\n",
              "       -0.34701873, -0.36963493, -0.39157947, -0.41275017, -0.43288854,\n",
              "       -0.45174415, -0.4693032 , -0.48539362, -0.49983182, -0.51235014,\n",
              "       -0.52217463, -0.52964139, -0.53462945, -0.53705187, -0.5368568 ,\n",
              "       -0.53344107, -0.52737814, -0.51898708, -0.50843236, -0.49589386,\n",
              "       -0.48136576, -0.46511218, -0.44757834, -0.42890804, -0.40922496,\n",
              "       -0.38859542, -0.36695063, -0.34454857, -0.32138239, -0.29741905,\n",
              "       -0.27259804, -0.24650694, -0.21906911, -0.19008214, -0.15924579,\n",
              "       -0.12621762, -0.09010916, -0.05014336, -0.00620709,  0.04221751,\n",
              "        0.09563117,  0.15482958,  0.22146708,  0.29428496,  0.37321509,\n",
              "        0.45804876,  0.54843657,  0.64480691,  0.74496308,  0.84778534,\n",
              "        0.95233844,  1.05767541,  1.16259407,  1.26567315,  1.36613318,\n",
              "        1.46312728,  1.55579841,  1.64285436,  1.72181584,  1.79310061,\n",
              "        1.85596929,  1.90976714,  1.95392861,  1.98516583,  2.00553804,\n",
              "        2.01528599,  2.01439722,  2.00293637,  1.97934624,  1.94452161,\n",
              "        1.90017944,  1.84669985,  1.78446539,  1.71326688,  1.63247345,\n",
              "        1.54430736,  1.44911885,  1.34727902,  1.23918394,  1.1238784 ,\n",
              "        1.00355251,  0.8789108 ,  0.75056329,  0.61914919,  0.48513377,\n",
              "        0.34977437,  0.21399432,  0.07837416, -0.05660218, -0.19046889,\n",
              "       -0.32299316, -0.454669  , -0.58576464, -0.7164494 , -0.84674778,\n",
              "       -0.97549541, -1.1010434 , -1.22140534, -1.33449802, -1.43822659,\n",
              "       -1.52804486, -1.60314868, -1.66444738, -1.7119044 , -1.74576065,\n",
              "       -1.76536097, -1.77070586, -1.76552096, -1.75091924, -1.72803726,\n",
              "       -1.69802123,  1.21      ,  0.        ,  0.        ,  0.        ,\n",
              "        0.        ,  0.        ,  0.        ,  0.        ,  0.        ,\n",
              "        0.        ,  0.        ,  0.        ,  0.        ,  0.        ,\n",
              "        0.        ,  0.        ,  0.        ,  0.        ,  0.        ,\n",
              "        0.        ,  0.        ])"
            ]
          },
          "metadata": {
            "tags": []
          },
          "execution_count": 78
        }
      ]
    },
    {
      "cell_type": "code",
      "metadata": {
        "id": "JVxZFIm6ygmr",
        "colab_type": "code",
        "colab": {
          "base_uri": "https://localhost:8080/",
          "height": 1000
        },
        "outputId": "9eb7cf68-4751-4f03-f30e-9f58bc72b96e"
      },
      "source": [
        "input_img = Input(shape=(192, 1))\n",
        "\n",
        "x = Conv1D(32, 3, padding='same')(input_img)\n",
        "x=(advanced_activations.LeakyReLU())(x)\n",
        "x = MaxPooling1D(2)(x)\n",
        "x = Conv1D(32, 3, padding='same')(x)\n",
        "x=(advanced_activations.LeakyReLU())(x)\n",
        "x = MaxPooling1D(2, padding='same')(x)\n",
        "x = Conv1D(16, 3, padding='same')(x)\n",
        "x=(advanced_activations.LeakyReLU())(x)\n",
        "x = MaxPooling1D(2, padding='same')(x)\n",
        "x = Conv1D(8, 3, padding='same')(x)\n",
        "x=(advanced_activations.LeakyReLU())(x)\n",
        "x = MaxPooling1D(2, padding='same')(x)\n",
        "x = Conv1D(1, 3, padding='same')(x)\n",
        "x=(advanced_activations.LeakyReLU())(x)\n",
        "encoded = MaxPooling1D(2, padding='same')(x)\n",
        "\n",
        "x = Conv1D(1, 3, padding='same')(encoded)\n",
        "x=(advanced_activations.LeakyReLU())(x)\n",
        "x = UpSampling1D(2)(x)\n",
        "x = Conv1D(8, 3, padding='same')(x)\n",
        "x=(advanced_activations.LeakyReLU())(x)\n",
        "x = UpSampling1D(2)(x)\n",
        "x = Conv1D(16, 3, padding='same')(x)\n",
        "x=(advanced_activations.LeakyReLU())(x)\n",
        "x = UpSampling1D(2)(x)\n",
        "x = Conv1D(32, 3, padding='same')(x)\n",
        "x=(advanced_activations.LeakyReLU())(x)\n",
        "x = UpSampling1D(2)(x)\n",
        "x = Conv1D(32, 3, padding='same')(x)\n",
        "x=(advanced_activations.LeakyReLU())(x)\n",
        "x = UpSampling1D(2)(x)\n",
        "decoded = Conv1D(1, 3, padding='same', activation='linear')(x)\n",
        "#decoded = Cropping1D(cropping=((9, 0)))(x)\n",
        "\n",
        "autoencoder = Model(input_img, decoded)\n",
        "adam = Adam(lr=0.001, beta_1=0.9, beta_2=0.999)\n",
        "autoencoder.compile(optimizer=adam, loss='mean_squared_error')   #mean_squared_error    binary_crossentropy\n",
        "autoencoder.summary()"
      ],
      "execution_count": 56,
      "outputs": [
        {
          "output_type": "stream",
          "text": [
            "Model: \"functional_7\"\n",
            "_________________________________________________________________\n",
            "Layer (type)                 Output Shape              Param #   \n",
            "=================================================================\n",
            "input_4 (InputLayer)         [(None, 192, 1)]          0         \n",
            "_________________________________________________________________\n",
            "conv1d_33 (Conv1D)           (None, 192, 32)           128       \n",
            "_________________________________________________________________\n",
            "leaky_re_lu_30 (LeakyReLU)   (None, 192, 32)           0         \n",
            "_________________________________________________________________\n",
            "max_pooling1d_15 (MaxPooling (None, 96, 32)            0         \n",
            "_________________________________________________________________\n",
            "conv1d_34 (Conv1D)           (None, 96, 32)            3104      \n",
            "_________________________________________________________________\n",
            "leaky_re_lu_31 (LeakyReLU)   (None, 96, 32)            0         \n",
            "_________________________________________________________________\n",
            "max_pooling1d_16 (MaxPooling (None, 48, 32)            0         \n",
            "_________________________________________________________________\n",
            "conv1d_35 (Conv1D)           (None, 48, 16)            1552      \n",
            "_________________________________________________________________\n",
            "leaky_re_lu_32 (LeakyReLU)   (None, 48, 16)            0         \n",
            "_________________________________________________________________\n",
            "max_pooling1d_17 (MaxPooling (None, 24, 16)            0         \n",
            "_________________________________________________________________\n",
            "conv1d_36 (Conv1D)           (None, 24, 8)             392       \n",
            "_________________________________________________________________\n",
            "leaky_re_lu_33 (LeakyReLU)   (None, 24, 8)             0         \n",
            "_________________________________________________________________\n",
            "max_pooling1d_18 (MaxPooling (None, 12, 8)             0         \n",
            "_________________________________________________________________\n",
            "conv1d_37 (Conv1D)           (None, 12, 1)             25        \n",
            "_________________________________________________________________\n",
            "leaky_re_lu_34 (LeakyReLU)   (None, 12, 1)             0         \n",
            "_________________________________________________________________\n",
            "max_pooling1d_19 (MaxPooling (None, 6, 1)              0         \n",
            "_________________________________________________________________\n",
            "conv1d_38 (Conv1D)           (None, 6, 1)              4         \n",
            "_________________________________________________________________\n",
            "leaky_re_lu_35 (LeakyReLU)   (None, 6, 1)              0         \n",
            "_________________________________________________________________\n",
            "up_sampling1d_15 (UpSampling (None, 12, 1)             0         \n",
            "_________________________________________________________________\n",
            "conv1d_39 (Conv1D)           (None, 12, 8)             32        \n",
            "_________________________________________________________________\n",
            "leaky_re_lu_36 (LeakyReLU)   (None, 12, 8)             0         \n",
            "_________________________________________________________________\n",
            "up_sampling1d_16 (UpSampling (None, 24, 8)             0         \n",
            "_________________________________________________________________\n",
            "conv1d_40 (Conv1D)           (None, 24, 16)            400       \n",
            "_________________________________________________________________\n",
            "leaky_re_lu_37 (LeakyReLU)   (None, 24, 16)            0         \n",
            "_________________________________________________________________\n",
            "up_sampling1d_17 (UpSampling (None, 48, 16)            0         \n",
            "_________________________________________________________________\n",
            "conv1d_41 (Conv1D)           (None, 48, 32)            1568      \n",
            "_________________________________________________________________\n",
            "leaky_re_lu_38 (LeakyReLU)   (None, 48, 32)            0         \n",
            "_________________________________________________________________\n",
            "up_sampling1d_18 (UpSampling (None, 96, 32)            0         \n",
            "_________________________________________________________________\n",
            "conv1d_42 (Conv1D)           (None, 96, 32)            3104      \n",
            "_________________________________________________________________\n",
            "leaky_re_lu_39 (LeakyReLU)   (None, 96, 32)            0         \n",
            "_________________________________________________________________\n",
            "up_sampling1d_19 (UpSampling (None, 192, 32)           0         \n",
            "_________________________________________________________________\n",
            "conv1d_43 (Conv1D)           (None, 192, 1)            97        \n",
            "=================================================================\n",
            "Total params: 10,406\n",
            "Trainable params: 10,406\n",
            "Non-trainable params: 0\n",
            "_________________________________________________________________\n"
          ],
          "name": "stdout"
        }
      ]
    },
    {
      "cell_type": "code",
      "metadata": {
        "id": "dMfmqgL5Ezos",
        "colab_type": "code",
        "colab": {
          "base_uri": "https://localhost:8080/",
          "height": 1000
        },
        "outputId": "312ca307-6c90-4c96-e2bd-0f2fb87b36dc"
      },
      "source": [
        "checkpointer = ModelCheckpoint(filepath='./moveNet.hdf5', verbose = 1, save_best_only = True) # verbose =1 is for printing the output\n",
        "autoencoder.fit(training_data, training_data,epochs=30,batch_size=32,callbacks = [checkpointer],validation_split=0.2)\n",
        "#autoencoder.fit(training_data, training_data,epochs=10,batch_size=32,validation_split=0.2)\n"
      ],
      "execution_count": 80,
      "outputs": [
        {
          "output_type": "stream",
          "text": [
            "Epoch 1/30\n",
            "598/602 [============================>.] - ETA: 0s - loss: 0.0082\n",
            "Epoch 00001: val_loss improved from inf to 0.00814, saving model to ./moveNet.hdf5\n",
            "602/602 [==============================] - 8s 12ms/step - loss: 0.0082 - val_loss: 0.0081\n",
            "Epoch 2/30\n",
            "598/602 [============================>.] - ETA: 0s - loss: 0.0081\n",
            "Epoch 00002: val_loss improved from 0.00814 to 0.00764, saving model to ./moveNet.hdf5\n",
            "602/602 [==============================] - 7s 12ms/step - loss: 0.0081 - val_loss: 0.0076\n",
            "Epoch 3/30\n",
            "600/602 [============================>.] - ETA: 0s - loss: 0.0079\n",
            "Epoch 00003: val_loss did not improve from 0.00764\n",
            "602/602 [==============================] - 7s 12ms/step - loss: 0.0079 - val_loss: 0.0079\n",
            "Epoch 4/30\n",
            "601/602 [============================>.] - ETA: 0s - loss: 0.0080\n",
            "Epoch 00004: val_loss did not improve from 0.00764\n",
            "602/602 [==============================] - 7s 12ms/step - loss: 0.0080 - val_loss: 0.0085\n",
            "Epoch 5/30\n",
            "598/602 [============================>.] - ETA: 0s - loss: 0.0079\n",
            "Epoch 00005: val_loss did not improve from 0.00764\n",
            "602/602 [==============================] - 7s 12ms/step - loss: 0.0079 - val_loss: 0.0110\n",
            "Epoch 6/30\n",
            "602/602 [==============================] - ETA: 0s - loss: 0.0077\n",
            "Epoch 00006: val_loss improved from 0.00764 to 0.00761, saving model to ./moveNet.hdf5\n",
            "602/602 [==============================] - 8s 13ms/step - loss: 0.0077 - val_loss: 0.0076\n",
            "Epoch 7/30\n",
            "601/602 [============================>.] - ETA: 0s - loss: 0.0076\n",
            "Epoch 00007: val_loss did not improve from 0.00761\n",
            "602/602 [==============================] - 7s 12ms/step - loss: 0.0076 - val_loss: 0.0096\n",
            "Epoch 8/30\n",
            "602/602 [==============================] - ETA: 0s - loss: 0.0076\n",
            "Epoch 00008: val_loss did not improve from 0.00761\n",
            "602/602 [==============================] - 8s 13ms/step - loss: 0.0076 - val_loss: 0.0078\n",
            "Epoch 9/30\n",
            "600/602 [============================>.] - ETA: 0s - loss: 0.0075\n",
            "Epoch 00009: val_loss did not improve from 0.00761\n",
            "602/602 [==============================] - 8s 13ms/step - loss: 0.0075 - val_loss: 0.0077\n",
            "Epoch 10/30\n",
            "602/602 [==============================] - ETA: 0s - loss: 0.0075\n",
            "Epoch 00010: val_loss did not improve from 0.00761\n",
            "602/602 [==============================] - 7s 12ms/step - loss: 0.0075 - val_loss: 0.0085\n",
            "Epoch 11/30\n",
            "601/602 [============================>.] - ETA: 0s - loss: 0.0074\n",
            "Epoch 00011: val_loss improved from 0.00761 to 0.00750, saving model to ./moveNet.hdf5\n",
            "602/602 [==============================] - 7s 12ms/step - loss: 0.0074 - val_loss: 0.0075\n",
            "Epoch 12/30\n",
            "599/602 [============================>.] - ETA: 0s - loss: 0.0073\n",
            "Epoch 00012: val_loss did not improve from 0.00750\n",
            "602/602 [==============================] - 7s 12ms/step - loss: 0.0073 - val_loss: 0.0079\n",
            "Epoch 13/30\n",
            "599/602 [============================>.] - ETA: 0s - loss: 0.0074\n",
            "Epoch 00013: val_loss improved from 0.00750 to 0.00721, saving model to ./moveNet.hdf5\n",
            "602/602 [==============================] - 7s 12ms/step - loss: 0.0074 - val_loss: 0.0072\n",
            "Epoch 14/30\n",
            "600/602 [============================>.] - ETA: 0s - loss: 0.0071\n",
            "Epoch 00014: val_loss did not improve from 0.00721\n",
            "602/602 [==============================] - 8s 12ms/step - loss: 0.0072 - val_loss: 0.0074\n",
            "Epoch 15/30\n",
            "601/602 [============================>.] - ETA: 0s - loss: 0.0072\n",
            "Epoch 00015: val_loss improved from 0.00721 to 0.00685, saving model to ./moveNet.hdf5\n",
            "602/602 [==============================] - 8s 13ms/step - loss: 0.0072 - val_loss: 0.0069\n",
            "Epoch 16/30\n",
            "601/602 [============================>.] - ETA: 0s - loss: 0.0072\n",
            "Epoch 00016: val_loss did not improve from 0.00685\n",
            "602/602 [==============================] - 8s 13ms/step - loss: 0.0072 - val_loss: 0.0071\n",
            "Epoch 17/30\n",
            "599/602 [============================>.] - ETA: 0s - loss: 0.0070\n",
            "Epoch 00017: val_loss did not improve from 0.00685\n",
            "602/602 [==============================] - 7s 12ms/step - loss: 0.0070 - val_loss: 0.0069\n",
            "Epoch 18/30\n",
            "599/602 [============================>.] - ETA: 0s - loss: 0.0071\n",
            "Epoch 00018: val_loss did not improve from 0.00685\n",
            "602/602 [==============================] - 7s 12ms/step - loss: 0.0071 - val_loss: 0.0073\n",
            "Epoch 19/30\n",
            "598/602 [============================>.] - ETA: 0s - loss: 0.0071\n",
            "Epoch 00019: val_loss did not improve from 0.00685\n",
            "602/602 [==============================] - 7s 12ms/step - loss: 0.0071 - val_loss: 0.0076\n",
            "Epoch 20/30\n",
            "598/602 [============================>.] - ETA: 0s - loss: 0.0069\n",
            "Epoch 00020: val_loss did not improve from 0.00685\n",
            "602/602 [==============================] - 7s 12ms/step - loss: 0.0069 - val_loss: 0.0070\n",
            "Epoch 21/30\n",
            "601/602 [============================>.] - ETA: 0s - loss: 0.0069\n",
            "Epoch 00021: val_loss did not improve from 0.00685\n",
            "602/602 [==============================] - 7s 12ms/step - loss: 0.0069 - val_loss: 0.0075\n",
            "Epoch 22/30\n",
            "599/602 [============================>.] - ETA: 0s - loss: 0.0069\n",
            "Epoch 00022: val_loss improved from 0.00685 to 0.00683, saving model to ./moveNet.hdf5\n",
            "602/602 [==============================] - 7s 12ms/step - loss: 0.0069 - val_loss: 0.0068\n",
            "Epoch 23/30\n",
            "598/602 [============================>.] - ETA: 0s - loss: 0.0069\n",
            "Epoch 00023: val_loss did not improve from 0.00683\n",
            "602/602 [==============================] - 7s 12ms/step - loss: 0.0069 - val_loss: 0.0069\n",
            "Epoch 24/30\n",
            "600/602 [============================>.] - ETA: 0s - loss: 0.0068\n",
            "Epoch 00024: val_loss did not improve from 0.00683\n",
            "602/602 [==============================] - 7s 12ms/step - loss: 0.0068 - val_loss: 0.0076\n",
            "Epoch 25/30\n",
            "601/602 [============================>.] - ETA: 0s - loss: 0.0068\n",
            "Epoch 00025: val_loss improved from 0.00683 to 0.00682, saving model to ./moveNet.hdf5\n",
            "602/602 [==============================] - 7s 12ms/step - loss: 0.0068 - val_loss: 0.0068\n",
            "Epoch 26/30\n",
            "600/602 [============================>.] - ETA: 0s - loss: 0.0067\n",
            "Epoch 00026: val_loss did not improve from 0.00682\n",
            "602/602 [==============================] - 7s 12ms/step - loss: 0.0067 - val_loss: 0.0068\n",
            "Epoch 27/30\n",
            "600/602 [============================>.] - ETA: 0s - loss: 0.0068\n",
            "Epoch 00027: val_loss did not improve from 0.00682\n",
            "602/602 [==============================] - 7s 12ms/step - loss: 0.0068 - val_loss: 0.0076\n",
            "Epoch 28/30\n",
            "601/602 [============================>.] - ETA: 0s - loss: 0.0067\n",
            "Epoch 00028: val_loss did not improve from 0.00682\n",
            "602/602 [==============================] - 8s 13ms/step - loss: 0.0067 - val_loss: 0.0074\n",
            "Epoch 29/30\n",
            "599/602 [============================>.] - ETA: 0s - loss: 0.0067\n",
            "Epoch 00029: val_loss did not improve from 0.00682\n",
            "602/602 [==============================] - 7s 12ms/step - loss: 0.0067 - val_loss: 0.0073\n",
            "Epoch 30/30\n",
            "598/602 [============================>.] - ETA: 0s - loss: 0.0066\n",
            "Epoch 00030: val_loss improved from 0.00682 to 0.00674, saving model to ./moveNet.hdf5\n",
            "602/602 [==============================] - 7s 12ms/step - loss: 0.0066 - val_loss: 0.0067\n"
          ],
          "name": "stdout"
        },
        {
          "output_type": "execute_result",
          "data": {
            "text/plain": [
              "<tensorflow.python.keras.callbacks.History at 0x7fb2315fdfd0>"
            ]
          },
          "metadata": {
            "tags": []
          },
          "execution_count": 80
        }
      ]
    },
    {
      "cell_type": "code",
      "metadata": {
        "id": "65C1qlQmCvpf",
        "colab_type": "code",
        "colab": {}
      },
      "source": [
        "model.load_weights('/content/moveNet.hdf5')"
      ],
      "execution_count": null,
      "outputs": []
    },
    {
      "cell_type": "code",
      "metadata": {
        "id": "dQ3rQ8i7H-u_",
        "colab_type": "code",
        "colab": {}
      },
      "source": [
        "model.save_weights('/content/moveNet2.hdf5')"
      ],
      "execution_count": null,
      "outputs": []
    },
    {
      "cell_type": "code",
      "metadata": {
        "id": "9YFA8j9-FNAH",
        "colab_type": "code",
        "colab": {
          "base_uri": "https://localhost:8080/",
          "height": 479
        },
        "outputId": "3a706115-7093-4bd5-c026-b596dffc3c07"
      },
      "source": [
        "decoded_paths = autoencoder.predict(training_data)\n",
        "\n",
        "n = 10\n",
        "plt.figure(figsize=(20, 4))\n",
        "for i in range(1,11):\n",
        "    # display original\n",
        "    ax = plt.subplot(1, n, i)\n",
        "    plt.plot(np.squeeze(training_data[i]))\n",
        "    plt.plot(np.squeeze(decoded_paths[i]))\n",
        "    ax.get_xaxis().set_visible(False)\n",
        "    ax.get_yaxis().set_visible(False)\n",
        "\n",
        "plt.show()\n",
        "\n",
        "decoded_paths = autoencoder.predict(testing_data)\n",
        "\n",
        "n = 10\n",
        "plt.figure(figsize=(20, 4))\n",
        "for i in range(1,11):\n",
        "    # display original\n",
        "    ax = plt.subplot(1, n, i)\n",
        "    plt.plot(np.squeeze(testing_data[i]))\n",
        "    plt.plot(np.squeeze(decoded_paths[i]))\n",
        "    ax.get_xaxis().set_visible(False)\n",
        "    ax.get_yaxis().set_visible(False)\n",
        "\n",
        "plt.show()\n"
      ],
      "execution_count": 81,
      "outputs": [
        {
          "output_type": "display_data",
          "data": {
            "image/png": "[encoded data removed]",
            "text/plain": [
              "<Figure size 1440x288 with 10 Axes>"
            ]
          },
          "metadata": {
            "tags": [],
            "needs_background": "light"
          }
        },
        {
          "output_type": "display_data",
          "data": {
            "image/png": "[encoded data removed]",
            "text/plain": [
              "<Figure size 1440x288 with 10 Axes>"
            ]
          },
          "metadata": {
            "tags": [],
            "needs_background": "light"
          }
        }
      ]
    },
    {
      "cell_type": "code",
      "metadata": {
        "id": "rrsAbV61FreD",
        "colab_type": "code",
        "colab": {}
      },
      "source": [
        "decoded_paths = autoencoder.predict(testing_data)"
      ],
      "execution_count": null,
      "outputs": []
    },
    {
      "cell_type": "code",
      "metadata": {
        "id": "YIblQhydF4B0",
        "colab_type": "code",
        "colab": {
          "base_uri": "https://localhost:8080/",
          "height": 282
        },
        "outputId": "74db7258-958c-4426-c779-37b0ccfcb0c0"
      },
      "source": [
        "plt.plot(testing_data[0])\n",
        "plt.plot(decoded_paths[0])"
      ],
      "execution_count": 82,
      "outputs": [
        {
          "output_type": "execute_result",
          "data": {
            "text/plain": [
              "[<matplotlib.lines.Line2D at 0x7fb231755908>]"
            ]
          },
          "metadata": {
            "tags": []
          },
          "execution_count": 82
        },
        {
          "output_type": "display_data",
          "data": {
            "image/png": "[encoded data removed]",
            "text/plain": [
              "<Figure size 432x288 with 1 Axes>"
            ]
          },
          "metadata": {
            "tags": [],
            "needs_background": "light"
          }
        }
      ]
    },
    {
      "cell_type": "code",
      "metadata": {
        "id": "MaYgAWBfG5rr",
        "colab_type": "code",
        "colab": {
          "base_uri": "https://localhost:8080/",
          "height": 1000
        },
        "outputId": "b91deedd-2a3a-4323-923f-178938a81aab"
      },
      "source": [
        "testing_data[0]"
      ],
      "execution_count": 62,
      "outputs": [
        {
          "output_type": "execute_result",
          "data": {
            "text/plain": [
              "array([[ 0.        ],\n",
              "       [ 0.        ],\n",
              "       [ 0.        ],\n",
              "       [ 0.        ],\n",
              "       [ 0.        ],\n",
              "       [ 0.        ],\n",
              "       [ 0.        ],\n",
              "       [ 0.        ],\n",
              "       [ 0.        ],\n",
              "       [ 0.        ],\n",
              "       [ 0.        ],\n",
              "       [ 0.        ],\n",
              "       [ 0.        ],\n",
              "       [ 0.        ],\n",
              "       [ 0.        ],\n",
              "       [ 0.        ],\n",
              "       [ 0.        ],\n",
              "       [ 0.        ],\n",
              "       [ 0.        ],\n",
              "       [ 0.        ],\n",
              "       [ 0.        ],\n",
              "       [-4.23909   ],\n",
              "       [-3.83622826],\n",
              "       [-3.38146738],\n",
              "       [-2.87510517],\n",
              "       [-2.29541356],\n",
              "       [-1.65464638],\n",
              "       [-0.96971395],\n",
              "       [-0.2367026 ],\n",
              "       [ 0.54331334],\n",
              "       [ 1.34047948],\n",
              "       [ 2.15012034],\n",
              "       [ 2.95352537],\n",
              "       [ 3.73160611],\n",
              "       [ 4.4805104 ],\n",
              "       [ 5.17744966],\n",
              "       [ 5.80298322],\n",
              "       [ 6.37264711],\n",
              "       [ 6.88132631],\n",
              "       [ 7.29007289],\n",
              "       [ 7.64205705],\n",
              "       [ 7.93906517],\n",
              "       [ 8.16222893],\n",
              "       [ 8.33682893],\n",
              "       [ 8.47779336],\n",
              "       [ 8.58483698],\n",
              "       [ 8.66736168],\n",
              "       [ 8.74191168],\n",
              "       [ 8.81127483],\n",
              "       [ 8.88490168],\n",
              "       [ 8.96721846],\n",
              "       [ 9.05859101],\n",
              "       [ 9.16479604],\n",
              "       [ 9.2849851 ],\n",
              "       [ 9.41378403],\n",
              "       [ 9.55084779],\n",
              "       [ 9.69271537],\n",
              "       [ 9.83268517],\n",
              "       [ 9.9693502 ],\n",
              "       [10.0947794 ],\n",
              "       [10.20764966],\n",
              "       [10.30942685],\n",
              "       [10.39652752],\n",
              "       [10.46881477],\n",
              "       [10.53387852],\n",
              "       [10.59285503],\n",
              "       [10.65113356],\n",
              "       [10.71565369],\n",
              "       [10.78823557],\n",
              "       [10.87885973],\n",
              "       [10.99323691],\n",
              "       [11.12832752],\n",
              "       [11.28921007],\n",
              "       [11.4893302 ],\n",
              "       [11.71508054],\n",
              "       [11.9664906 ],\n",
              "       [12.25774228],\n",
              "       [12.57511208],\n",
              "       [12.91448121],\n",
              "       [13.28064228],\n",
              "       [13.67133356],\n",
              "       [14.07747919],\n",
              "       [14.49867718],\n",
              "       [14.94040604],\n",
              "       [15.39282886],\n",
              "       [15.85581544],\n",
              "       [16.33402349],\n",
              "       [16.82600336],\n",
              "       [17.33011074],\n",
              "       [17.84989597],\n",
              "       [18.39458523],\n",
              "       [18.95906242],\n",
              "       [19.54459597],\n",
              "       [20.17241141],\n",
              "       [20.83433423],\n",
              "       [21.52984765],\n",
              "       [22.27605235],\n",
              "       [23.08041275],\n",
              "       [23.93062886],\n",
              "       [24.8323604 ],\n",
              "       [25.81832013],\n",
              "       [26.85798926],\n",
              "       [27.95165638],\n",
              "       [29.12814966],\n",
              "       [30.36750134],\n",
              "       [31.65715973],\n",
              "       [33.00644497],\n",
              "       [34.41528725],\n",
              "       [35.85665436],\n",
              "       [37.32758389],\n",
              "       [38.82823826],\n",
              "       [40.33269799],\n",
              "       [41.83627718],\n",
              "       [43.32438792],\n",
              "       [44.77813624],\n",
              "       [46.1961396 ],\n",
              "       [47.56621342],\n",
              "       [48.84130537],\n",
              "       [50.0400906 ],\n",
              "       [51.1570651 ],\n",
              "       [52.11799128],\n",
              "       [52.94074966],\n",
              "       [53.63420537],\n",
              "       [54.14468859],\n",
              "       [54.42622752],\n",
              "       [54.53592953],\n",
              "       [54.46616443],\n",
              "       [54.07490671],\n",
              "       [53.48847718],\n",
              "       [52.70648658],\n",
              "       [51.63802349],\n",
              "       [50.32827651],\n",
              "       [48.83373893],\n",
              "       [47.12745369],\n",
              "       [45.17329866],\n",
              "       [43.07916443],\n",
              "       [40.85273154],\n",
              "       [38.45753356],\n",
              "       [35.98710671],\n",
              "       [33.46184899],\n",
              "       [30.89322483],\n",
              "       [28.32606644],\n",
              "       [25.77812013],\n",
              "       [23.26079799],\n",
              "       [20.82447919],\n",
              "       [18.44932483],\n",
              "       [16.13772953],\n",
              "       [13.93054497],\n",
              "       [11.81196174],\n",
              "       [ 9.76794094],\n",
              "       [ 7.81753423],\n",
              "       [ 5.9878949 ],\n",
              "       [ 4.2454394 ],\n",
              "       [ 2.59257643],\n",
              "       [ 1.10740146],\n",
              "       [-0.25969221],\n",
              "       [-1.51096879],\n",
              "       [-2.59151745],\n",
              "       [-3.50343389],\n",
              "       [-4.28995738],\n",
              "       [-4.93785671],\n",
              "       [-5.40047027],\n",
              "       [-5.7590349 ],\n",
              "       [-6.01722114],\n",
              "       [-6.13661812],\n",
              "       [-6.16576409],\n",
              "       [-6.12097289],\n",
              "       [-5.98743966],\n",
              "       [-5.76015396],\n",
              "       [-5.46859832],\n",
              "       [-5.11305   ],\n",
              "       [ 1.05      ],\n",
              "       [ 0.        ],\n",
              "       [ 0.        ],\n",
              "       [ 0.        ],\n",
              "       [ 0.        ],\n",
              "       [ 0.        ],\n",
              "       [ 0.        ],\n",
              "       [ 0.        ],\n",
              "       [ 0.        ],\n",
              "       [ 0.        ],\n",
              "       [ 0.        ],\n",
              "       [ 0.        ],\n",
              "       [ 0.        ],\n",
              "       [ 0.        ],\n",
              "       [ 0.        ],\n",
              "       [ 0.        ],\n",
              "       [ 0.        ],\n",
              "       [ 0.        ],\n",
              "       [ 0.        ],\n",
              "       [ 0.        ],\n",
              "       [ 0.        ]])"
            ]
          },
          "metadata": {
            "tags": []
          },
          "execution_count": 62
        }
      ]
    }
  ]
}